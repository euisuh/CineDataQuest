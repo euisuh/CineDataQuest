{
 "cells": [
  {
   "cell_type": "markdown",
   "id": "d9f34a76-d625-4f67-aff2-22e47d5249b2",
   "metadata": {},
   "source": [
    "# Create DB"
   ]
  },
  {
   "cell_type": "code",
   "execution_count": 1,
   "id": "dd1a2dbf-7312-4e08-9578-be82e85439a4",
   "metadata": {
    "tags": []
   },
   "outputs": [],
   "source": [
    "import sqlite3\n",
    "import pandas as pd\n",
    "import numpy as np\n",
    "from utils import *\n",
    "\n",
    "db_name = 'esj2.db'\n",
    "conn = sqlite3.connect(db_name)\n",
    "cursor = conn.cursor()\n",
    "\n",
    "with open('sqls/init1.sql', 'r') as sql_file:\n",
    "        sql_script = sql_file.read()\n",
    "    \n",
    "cursor.executescript(sql_script)\n",
    "conn.commit()\n",
    "conn.close()"
   ]
  },
  {
   "cell_type": "markdown",
   "id": "179dcf9b-9b3a-4992-b2ae-559ebe4b628a",
   "metadata": {
    "tags": []
   },
   "source": [
    "# Populate DB"
   ]
  },
  {
   "cell_type": "markdown",
   "id": "59bb64ce-2132-496d-87bb-7951247ce1ef",
   "metadata": {
    "jp-MarkdownHeadingCollapsed": true,
    "tags": []
   },
   "source": [
    "### PROMOTION - 80, CUSTOMER - 3000, MOVIE - 500, ARTIST - 2000, CAST - 5000, SESSION - 10K"
   ]
  },
  {
   "cell_type": "code",
   "execution_count": 3,
   "id": "b16c623b-a9b1-4f3c-8075-e13c246248ef",
   "metadata": {
    "tags": []
   },
   "outputs": [],
   "source": [
    "conn = sqlite3.connect(db_name)\n",
    "cursor = conn.cursor()\n",
    "\n",
    "# Promotion\n",
    "df = pd.read_csv('toyData/promotions.csv')\n",
    "halls = [(\n",
    "            df['name'].iloc[i], \n",
    "            int(df['discount'].iloc[i]),\n",
    "            df['start'].iloc[i],\n",
    "            df['end'].iloc[i],\n",
    "        ) for i in range(df.shape[0])]\n",
    "\n",
    "sql_query_template = \"\"\"\n",
    "    INSERT INTO PROMOTION (name, discount, start, end)\n",
    "    VALUES (?, ?, ?, ?);\n",
    "\"\"\"\n",
    "\n",
    "for hall in halls:\n",
    "    cursor.execute(sql_query_template, hall)\n",
    "    \n",
    "# Customer\n",
    "df = pd.read_csv('toyData/customer.csv')\n",
    "halls = [(\n",
    "            df['name'].iloc[i], \n",
    "            df['dob'].iloc[i], \n",
    "            df['address'].iloc[i],\n",
    "            df['gender'].iloc[i],\n",
    "        ) for i in range(df.shape[0])]\n",
    "\n",
    "sql_query_template = \"\"\"\n",
    "    INSERT INTO CUSTOMER (name, dob, address, gender)\n",
    "    VALUES (?, ?, ?, ?);\n",
    "\"\"\"\n",
    "\n",
    "for hall in halls:\n",
    "    cursor.execute(sql_query_template, hall)\n",
    "\n",
    "\n",
    "# Movies\n",
    "df = pd.read_csv('toyData/movies.csv')\n",
    "halls = [(\n",
    "            df['title'].iloc[i], \n",
    "            df['country'].iloc[i], \n",
    "            df['language'].iloc[i], \n",
    "            round(df['cost'].iloc[i]*1000000), \n",
    "            df['releaseDate'].iloc[i], \n",
    "            df['genre'].iloc[i]\n",
    "        ) for i in range(df.shape[0])]\n",
    "\n",
    "sql_query_template = \"\"\"\n",
    "    INSERT INTO MOVIE (title, country, language, cost, releaseDate, genre)\n",
    "    VALUES (?, ?, ?, ?, ?, ?);\n",
    "\"\"\"\n",
    "\n",
    "for hall in halls:\n",
    "    cursor.execute(sql_query_template, hall)\n",
    "\n",
    "# Artists\n",
    "df = pd.read_csv('toyData/artist.csv')\n",
    "halls = [(\n",
    "            df['name'].iloc[i], \n",
    "            df['dob'].iloc[i], \n",
    "            df['gender'].iloc[i],\n",
    "        ) for i in range(df.shape[0])]\n",
    "\n",
    "sql_query_template = \"\"\"\n",
    "    INSERT INTO ARTIST (name, dob, gender)\n",
    "    VALUES (?, ?, ?);\n",
    "\"\"\"\n",
    "\n",
    "for hall in halls:\n",
    "    cursor.execute(sql_query_template, hall)\n",
    "\n",
    "# Cast\n",
    "# Directors\n",
    "halls = [(i, \n",
    "          random.randint(1, 100), \n",
    "          1,) for i in range(1, 500)]\n",
    "\n",
    "sql_query_template = \"\"\"\n",
    "    INSERT INTO CAST (movieId, artistId, isDirector)\n",
    "    VALUES (?, ?, ?);\n",
    "\"\"\"\n",
    "\n",
    "for hall in halls:\n",
    "    cursor.execute(sql_query_template, hall)\n",
    "\n",
    "# Actors\n",
    "halls = [(random.randint(1, 500), \n",
    "          random.randint(101, 2000), \n",
    "          \"1\" if random.random() < 0.05 else \"0\") for i in range(4500)]\n",
    "\n",
    "sql_query_template = \"\"\"\n",
    "    INSERT INTO CAST (movieId, artistId, isDirector)\n",
    "    VALUES (?, ?, ?);\n",
    "\"\"\"\n",
    "\n",
    "for hall in halls:\n",
    "    cursor.execute(sql_query_template, hall)\n",
    "\n",
    "# Sessions\n",
    "df = pd.read_csv('toyData/sessions.csv')\n",
    "\n",
    "sql_query_template = \"\"\"\n",
    "    INSERT INTO SESSION (dateTime, movieId, hall, size, state, city, address)\n",
    "    VALUES (?, ?, ?, ?, ?, ?, ?);\n",
    "\"\"\"\n",
    "\n",
    "for i in range(df.shape[0]):\n",
    "    hall = (df['dateTime'].iloc[i],\n",
    "            int(df['movieId'].iloc[i]),\n",
    "            int(df['hall'].iloc[i]),\n",
    "            int(df['size'].iloc[i]),\n",
    "            df['state'].iloc[i],\n",
    "            df['city'].iloc[i],\n",
    "            df['address'].iloc[i]\n",
    "           )\n",
    "    \n",
    "    cursor.execute(sql_query_template, hall)\n",
    "\n",
    "conn.commit()\n",
    "cursor.close()\n",
    "conn.close()"
   ]
  },
  {
   "cell_type": "markdown",
   "id": "76e0e686-3a60-4772-b745-839aaa383c44",
   "metadata": {
    "jp-MarkdownHeadingCollapsed": true,
    "tags": []
   },
   "source": [
    "### Ticket Transaction - 1M, Ticket - Approx 3M"
   ]
  },
  {
   "cell_type": "code",
   "execution_count": 4,
   "id": "0fa4b386-1131-48e2-bb31-6638f0230a2a",
   "metadata": {
    "tags": []
   },
   "outputs": [],
   "source": [
    "from utils import *\n",
    "import sqlite3\n",
    "\n",
    "conn = sqlite3.connect(db_name)\n",
    "cursor = conn.cursor()\n",
    "\n",
    "sql_transaction_template = \"\"\"\n",
    "    INSERT INTO TICKET_TRANSACTION (dateTime, totalPrice, payMethod, customerId, promotionId, os, browser, sessionId, numTickets)\n",
    "    VALUES (?, ?, ?, ?, ?, ?, ?, ?, ?);\n",
    "\"\"\"\n",
    "\n",
    "sql_ticket_template = \"\"\"\n",
    "    INSERT INTO TICKET (price, row, seat, transactionId, sessionId)\n",
    "    VALUES (?, ?, ?, ?, ?);\n",
    "\"\"\"\n",
    "\n",
    "df_session = pd.read_csv('toyData/sessions.csv')\n",
    "\n",
    "\n",
    "for i in range(1000000):\n",
    "    number_of_tickets = random.randint(1, 5)\n",
    "    ticket_price = random.choices([15, 30, 50], weights=[0.4, 0.4, 0.2])[0]\n",
    "    \n",
    "    row = random.randint(1, 20)\n",
    "    seat = random.randint(1, 20)\n",
    "    session = random.randint(1, df_session.shape[0])\n",
    "    \n",
    "    payment = random.choices([\"Credit Card\", \"Wire Transfer\", \"Cash\"], weights=[0.6, 0.1, 0.3])[0]\n",
    "    if payment != \"Cash\":\n",
    "        os = random.choices([\"Windows\", \"Mac\", \"Linux\"], weights=[0.5, 0.4, 0.1])[0]\n",
    "        browser = random.choices([\"Chrome\", \"Web Browser\", \"Safari\"], weights=[0.7, 0.2, 0.1])[0]\n",
    "    else:\n",
    "        os = None\n",
    "        browser = None\n",
    "    \n",
    "    hall = (random_transaction_time(df_session['dateTime'].iloc[session-1]),\n",
    "            ticket_price*number_of_tickets,\n",
    "            payment,\n",
    "            None if random.random() < 0.9 else random.randint(1, 3000),\n",
    "            None,\n",
    "            os,\n",
    "            browser,\n",
    "            session,\n",
    "            number_of_tickets,\n",
    "           )\n",
    "    \n",
    "    cursor.execute(sql_transaction_template, hall)\n",
    "    \n",
    "    for j in range(number_of_tickets):\n",
    "        hall = (ticket_price,\n",
    "                row,\n",
    "                seat+j,\n",
    "                i,\n",
    "                session,\n",
    "               )\n",
    "        cursor.execute(sql_ticket_template, hall)\n",
    "\n",
    "conn.commit()\n",
    "cursor.close()\n",
    "conn.close()"
   ]
  },
  {
   "cell_type": "markdown",
   "id": "aa2a28a6-c40a-450d-b0d7-c8de574a92e6",
   "metadata": {
    "jp-MarkdownHeadingCollapsed": true,
    "tags": []
   },
   "source": [
    "### Connect promotion"
   ]
  },
  {
   "cell_type": "code",
   "execution_count": 5,
   "id": "977a954b-76ad-47d0-9c5d-13dfb834693f",
   "metadata": {
    "tags": []
   },
   "outputs": [],
   "source": [
    "import sqlite3\n",
    "\n",
    "conn = sqlite3.connect(db_name)\n",
    "cursor = conn.cursor()\n",
    "\n",
    "cursor.execute(\"SELECT id, start, end, discount FROM PROMOTION\")\n",
    "promotions = cursor.fetchall()\n",
    "\n",
    "for promotion in promotions:\n",
    "    promo_id, start_date, end_date, discount_amount = promotion\n",
    "    cursor.execute(\"SELECT COUNT(*) FROM TICKET_TRANSACTION WHERE dateTime BETWEEN ? AND ?\", \n",
    "                   (start_date, end_date))\n",
    "    total_rows = cursor.fetchone()[0]\n",
    "    rows_to_update = int(0.4 * total_rows)\n",
    "    \n",
    "    cursor.execute(\"SELECT id, totalPrice FROM TICKET_TRANSACTION WHERE dateTime BETWEEN ? AND ? ORDER BY RANDOM() LIMIT ?\",\n",
    "                   (start_date, end_date, rows_to_update))\n",
    "    rows_to_update = cursor.fetchall()\n",
    "    \n",
    "    for row in rows_to_update:\n",
    "        ticket_id, original_price = row\n",
    "        discounted_price = original_price - discount_amount\n",
    "        cursor.execute(\"UPDATE TICKET_TRANSACTION SET promotionId = ?, totalPrice = ? WHERE id = ?\", \n",
    "                       (promo_id, discounted_price, ticket_id))\n",
    "\n",
    "conn.commit()\n",
    "conn.close()"
   ]
  },
  {
   "cell_type": "markdown",
   "id": "251ba25d-a7a2-429a-995a-642582993d70",
   "metadata": {},
   "source": [
    "# Index DB"
   ]
  },
  {
   "cell_type": "code",
   "execution_count": 6,
   "id": "4e2caf62-aa19-4cad-b12c-2668a9a515e5",
   "metadata": {
    "tags": []
   },
   "outputs": [
    {
     "name": "stdout",
     "output_type": "stream",
     "text": [
      "Indexes created successfully.\n"
     ]
    }
   ],
   "source": [
    "import sqlite3\n",
    "\n",
    "conn = sqlite3.connect(db_name)\n",
    "cursor = conn.cursor()\n",
    "\n",
    "index_commands = [\n",
    "    \"CREATE INDEX idx_promotion_date ON PROMOTION(start, end);\",\n",
    "    \"CREATE INDEX idx_customer_dob ON CUSTOMER(dob);\",\n",
    "    \"CREATE INDEX idx_ticket_transactionId ON TICKET(transactionId);\",\n",
    "    \"CREATE INDEX idx_ticket_sessionId ON TICKET(sessionId);\",\n",
    "    \"CREATE INDEX idx_movie_releaseDate_genre ON MOVIE(releaseDate, genre);\",\n",
    "    \"CREATE INDEX idx_cast_movieId ON CAST(movieId);\",\n",
    "    \"CREATE INDEX idx_cast_artistId ON CAST(artistId);\",\n",
    "    \"CREATE INDEX idx_artist_dob ON ARTIST(dob);\",\n",
    "    \"CREATE INDEX idx_session_dateTime_movieId ON SESSION(dateTime, movieId);\",\n",
    "    \"CREATE INDEX idx_ticket_transaction_customerId ON TICKET_TRANSACTION(customerId);\",\n",
    "    \"CREATE INDEX idx_ticket_transaction_promotionId ON TICKET_TRANSACTION(promotionId);\",\n",
    "    \"CREATE INDEX idx_ticket_transaction_sessionId ON TICKET_TRANSACTION(sessionId);\"\n",
    "]\n",
    "\n",
    "for command in index_commands:\n",
    "    cursor.execute(command)\n",
    "\n",
    "conn.commit()\n",
    "conn.close()\n",
    "\n",
    "print(\"Indexes created successfully.\")\n"
   ]
  },
  {
   "cell_type": "markdown",
   "id": "ec4d57a2-97e5-4da9-9388-5f966930a64e",
   "metadata": {},
   "source": [
    "# crop image"
   ]
  },
  {
   "cell_type": "code",
   "execution_count": 5,
   "id": "1f7adbcf-7047-4b73-bb96-4a26b8800238",
   "metadata": {
    "tags": []
   },
   "outputs": [],
   "source": [
    "from PIL import Image\n",
    "\n",
    "def crop_right_half(image_path, output_path):\n",
    "    # Open the image\n",
    "    img = Image.open(image_path)\n",
    "    \n",
    "    # Get dimensions of the image\n",
    "    width, height = img.size\n",
    "    \n",
    "    # Crop the right half of the image\n",
    "    cropped_img = img.crop((0, 0, width // 2, height))\n",
    "    \n",
    "    # Save the cropped image\n",
    "    cropped_img.save(output_path)\n",
    "\n",
    "# Example usage:\n",
    "for i in range(1, 9):\n",
    "    input_image_path = f\"image-00{i}.png\"\n",
    "    output_image_path = f\"cropped-image-00{i}.png\"\n",
    "    crop_right_half(input_image_path, output_image_path)\n"
   ]
  },
  {
   "cell_type": "code",
   "execution_count": null,
   "id": "6e79df44-9b6b-4544-8634-bdc93722779f",
   "metadata": {},
   "outputs": [],
   "source": []
  }
 ],
 "metadata": {
  "kernelspec": {
   "display_name": "Python 3 (ipykernel)",
   "language": "python",
   "name": "python3"
  },
  "language_info": {
   "codemirror_mode": {
    "name": "ipython",
    "version": 3
   },
   "file_extension": ".py",
   "mimetype": "text/x-python",
   "name": "python",
   "nbconvert_exporter": "python",
   "pygments_lexer": "ipython3",
   "version": "3.9.18"
  }
 },
 "nbformat": 4,
 "nbformat_minor": 5
}
