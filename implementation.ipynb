{
 "cells": [
  {
   "cell_type": "markdown",
   "id": "0bc808a2-3bef-448a-aac5-85939e7e252e",
   "metadata": {},
   "source": [
    "# Implementation\n",
    "Euisuh Jeong"
   ]
  },
  {
   "cell_type": "code",
   "execution_count": 1,
   "id": "f793ec31-d508-48d7-af8d-a1717e8b8c68",
   "metadata": {
    "tags": []
   },
   "outputs": [],
   "source": [
    "import sqlite3\n",
    "import pandas as pd\n",
    "import time\n",
    "\n",
    "db_name = 'esj2.db'"
   ]
  },
  {
   "cell_type": "markdown",
   "id": "be71456c-fa62-4a58-8380-6222ae39fb93",
   "metadata": {
    "tags": []
   },
   "source": [
    "## Question"
   ]
  },
  {
   "cell_type": "markdown",
   "id": "606d71e4-4392-4a8a-bedf-75cd2b0c69c3",
   "metadata": {},
   "source": [
    "### Question 1: Total Sales by Years and Transaction Types\n",
    "Produce a pivot table for total sales, with two dimensions, namely, (i) the years of the transactions, and (ii) the types of transactions."
   ]
  },
  {
   "cell_type": "code",
   "execution_count": 2,
   "id": "e68e7333-d2f3-4e49-9d0a-d325e90deae5",
   "metadata": {
    "scrolled": true,
    "tags": []
   },
   "outputs": [
    {
     "name": "stdout",
     "output_type": "stream",
     "text": [
      "Time taken: 5.43 seconds\n"
     ]
    }
   ],
   "source": [
    "conn = sqlite3.connect(db_name)\n",
    "start = time.time()\n",
    "\n",
    "query = '''\n",
    "    SELECT \n",
    "        strftime('%Y', dateTime) AS transaction_year,\n",
    "        payMethod AS transaction_type,\n",
    "        SUM(totalPrice) AS total_sales\n",
    "    FROM TICKET_TRANSACTION\n",
    "    GROUP BY transaction_year, transaction_type\n",
    "'''\n",
    "\n",
    "df1 = pd.read_sql_query(query, conn)\n",
    "print(f\"Time taken: {time.time() - start:.2f} seconds\")\n",
    "\n",
    "conn.close()"
   ]
  },
  {
   "cell_type": "code",
   "execution_count": 3,
   "id": "de3cc59b-e34e-4f2e-9282-947e04700e7d",
   "metadata": {
    "scrolled": true,
    "tags": []
   },
   "outputs": [
    {
     "data": {
      "text/html": [
       "<div>\n",
       "<style scoped>\n",
       "    .dataframe tbody tr th:only-of-type {\n",
       "        vertical-align: middle;\n",
       "    }\n",
       "\n",
       "    .dataframe tbody tr th {\n",
       "        vertical-align: top;\n",
       "    }\n",
       "\n",
       "    .dataframe thead th {\n",
       "        text-align: right;\n",
       "    }\n",
       "</style>\n",
       "<table border=\"1\" class=\"dataframe\">\n",
       "  <thead>\n",
       "    <tr style=\"text-align: right;\">\n",
       "      <th></th>\n",
       "      <th>transaction_year</th>\n",
       "      <th>transaction_type</th>\n",
       "      <th>total_sales</th>\n",
       "    </tr>\n",
       "  </thead>\n",
       "  <tbody>\n",
       "    <tr>\n",
       "      <th>0</th>\n",
       "      <td>1994</td>\n",
       "      <td>Cash</td>\n",
       "      <td>505335</td>\n",
       "    </tr>\n",
       "    <tr>\n",
       "      <th>1</th>\n",
       "      <td>1994</td>\n",
       "      <td>Credit Card</td>\n",
       "      <td>1034460</td>\n",
       "    </tr>\n",
       "    <tr>\n",
       "      <th>2</th>\n",
       "      <td>1994</td>\n",
       "      <td>Wire Transfer</td>\n",
       "      <td>171540</td>\n",
       "    </tr>\n",
       "    <tr>\n",
       "      <th>3</th>\n",
       "      <td>1995</td>\n",
       "      <td>Cash</td>\n",
       "      <td>822115</td>\n",
       "    </tr>\n",
       "    <tr>\n",
       "      <th>4</th>\n",
       "      <td>1995</td>\n",
       "      <td>Credit Card</td>\n",
       "      <td>1681885</td>\n",
       "    </tr>\n",
       "  </tbody>\n",
       "</table>\n",
       "</div>"
      ],
      "text/plain": [
       "  transaction_year transaction_type  total_sales\n",
       "0             1994             Cash       505335\n",
       "1             1994      Credit Card      1034460\n",
       "2             1994    Wire Transfer       171540\n",
       "3             1995             Cash       822115\n",
       "4             1995      Credit Card      1681885"
      ]
     },
     "execution_count": 3,
     "metadata": {},
     "output_type": "execute_result"
    }
   ],
   "source": [
    "df1.head()"
   ]
  },
  {
   "cell_type": "markdown",
   "id": "0baf7258-2b51-43e6-b39c-90fe64ea2098",
   "metadata": {},
   "source": [
    "### Question 2: Total Sales by Months with ROLLUP to Years and Cinema Locations\n",
    "Produce a pivot table for total sales, with two dimensions, namely, (i) the months of the transactions with ROLLUP to years, and (ii) Cinema locations."
   ]
  },
  {
   "cell_type": "code",
   "execution_count": 4,
   "id": "088af7ce-1573-4945-bfa6-d485754ed869",
   "metadata": {
    "tags": []
   },
   "outputs": [
    {
     "name": "stdout",
     "output_type": "stream",
     "text": [
      "Time taken: 6.88 seconds\n"
     ]
    }
   ],
   "source": [
    "conn = sqlite3.connect(db_name)\n",
    "start = time.time()\n",
    "\n",
    "query = '''\n",
    "    SELECT \n",
    "        strftime('%Y', tt.dateTime) AS year,\n",
    "        strftime('%m', tt.dateTime) AS month,\n",
    "        s.address AS cinema_location,\n",
    "        SUM(tt.totalPrice) AS total_sales\n",
    "    FROM TICKET_TRANSACTION tt\n",
    "    JOIN SESSION s ON tt.sessionId = s.id\n",
    "    GROUP BY year, month, cinema_location\n",
    "    ORDER BY year, month, cinema_location;\n",
    "'''\n",
    "\n",
    "df2 = pd.read_sql_query(query, conn)\n",
    "print(f\"Time taken: {time.time() - start:.2f} seconds\")\n",
    "\n",
    "conn.close()"
   ]
  },
  {
   "cell_type": "code",
   "execution_count": 5,
   "id": "557c9691-1b56-4ff2-b70f-2197c55d32a0",
   "metadata": {
    "tags": []
   },
   "outputs": [
    {
     "data": {
      "text/html": [
       "<div>\n",
       "<style scoped>\n",
       "    .dataframe tbody tr th:only-of-type {\n",
       "        vertical-align: middle;\n",
       "    }\n",
       "\n",
       "    .dataframe tbody tr th {\n",
       "        vertical-align: top;\n",
       "    }\n",
       "\n",
       "    .dataframe thead th {\n",
       "        text-align: right;\n",
       "    }\n",
       "</style>\n",
       "<table border=\"1\" class=\"dataframe\">\n",
       "  <thead>\n",
       "    <tr style=\"text-align: right;\">\n",
       "      <th></th>\n",
       "      <th>year</th>\n",
       "      <th>month</th>\n",
       "      <th>cinema_location</th>\n",
       "      <th>total_sales</th>\n",
       "    </tr>\n",
       "  </thead>\n",
       "  <tbody>\n",
       "    <tr>\n",
       "      <th>0</th>\n",
       "      <td>1994</td>\n",
       "      <td>02</td>\n",
       "      <td>122 Mckee Flat Suite 088</td>\n",
       "      <td>7120</td>\n",
       "    </tr>\n",
       "    <tr>\n",
       "      <th>1</th>\n",
       "      <td>1994</td>\n",
       "      <td>02</td>\n",
       "      <td>22522 Savage Rest Suite 648</td>\n",
       "      <td>7745</td>\n",
       "    </tr>\n",
       "    <tr>\n",
       "      <th>2</th>\n",
       "      <td>1994</td>\n",
       "      <td>02</td>\n",
       "      <td>334 Simmons Branch Suite 380</td>\n",
       "      <td>7935</td>\n",
       "    </tr>\n",
       "    <tr>\n",
       "      <th>3</th>\n",
       "      <td>1994</td>\n",
       "      <td>02</td>\n",
       "      <td>3419 Griffin Keys</td>\n",
       "      <td>6875</td>\n",
       "    </tr>\n",
       "    <tr>\n",
       "      <th>4</th>\n",
       "      <td>1994</td>\n",
       "      <td>02</td>\n",
       "      <td>360 Jessica Square</td>\n",
       "      <td>7850</td>\n",
       "    </tr>\n",
       "  </tbody>\n",
       "</table>\n",
       "</div>"
      ],
      "text/plain": [
       "   year month               cinema_location  total_sales\n",
       "0  1994    02      122 Mckee Flat Suite 088         7120\n",
       "1  1994    02   22522 Savage Rest Suite 648         7745\n",
       "2  1994    02  334 Simmons Branch Suite 380         7935\n",
       "3  1994    02             3419 Griffin Keys         6875\n",
       "4  1994    02            360 Jessica Square         7850"
      ]
     },
     "execution_count": 5,
     "metadata": {},
     "output_type": "execute_result"
    }
   ],
   "source": [
    "df2.head()"
   ]
  },
  {
   "cell_type": "markdown",
   "id": "d240fc4e-8f74-456a-9d39-a6012e051119",
   "metadata": {},
   "source": [
    "### Question 3: Total Sales by Tickets and Promotion Usage\n",
    "Produce a pivot table for total sales, with two dimensions, namely, (i) the tickets, and (ii) whether the tickets have promotion or not.\n"
   ]
  },
  {
   "cell_type": "code",
   "execution_count": 6,
   "id": "802bec5f-3262-4304-8b7a-15603f71b63f",
   "metadata": {
    "tags": []
   },
   "outputs": [
    {
     "name": "stdout",
     "output_type": "stream",
     "text": [
      "Time taken: 3.90 seconds\n"
     ]
    }
   ],
   "source": [
    "conn = sqlite3.connect(db_name)\n",
    "start = time.time()\n",
    "\n",
    "query = '''\n",
    "    SELECT \n",
    "        CASE \n",
    "            WHEN promotionId IS NOT NULL THEN 'With Promotion' \n",
    "            ELSE 'Without Promotion' \n",
    "        END AS promotion_status,\n",
    "        COUNT(*) AS ticket_count,\n",
    "        SUM(totalPrice) AS total_sales\n",
    "    FROM TICKET_TRANSACTION\n",
    "    GROUP BY promotion_status;\n",
    "'''\n",
    "\n",
    "df3 = pd.read_sql_query(query, conn)\n",
    "print(f\"Time taken: {time.time() - start:.2f} seconds\")\n",
    "\n",
    "conn.close()"
   ]
  },
  {
   "cell_type": "code",
   "execution_count": 7,
   "id": "0af46460-dd78-4201-9fa8-c2df1af85f41",
   "metadata": {
    "tags": []
   },
   "outputs": [
    {
     "data": {
      "text/html": [
       "<div>\n",
       "<style scoped>\n",
       "    .dataframe tbody tr th:only-of-type {\n",
       "        vertical-align: middle;\n",
       "    }\n",
       "\n",
       "    .dataframe tbody tr th {\n",
       "        vertical-align: top;\n",
       "    }\n",
       "\n",
       "    .dataframe thead th {\n",
       "        text-align: right;\n",
       "    }\n",
       "</style>\n",
       "<table border=\"1\" class=\"dataframe\">\n",
       "  <thead>\n",
       "    <tr style=\"text-align: right;\">\n",
       "      <th></th>\n",
       "      <th>promotion_status</th>\n",
       "      <th>ticket_count</th>\n",
       "      <th>total_sales</th>\n",
       "    </tr>\n",
       "  </thead>\n",
       "  <tbody>\n",
       "    <tr>\n",
       "      <th>0</th>\n",
       "      <td>With Promotion</td>\n",
       "      <td>18696</td>\n",
       "      <td>1055445</td>\n",
       "    </tr>\n",
       "    <tr>\n",
       "      <th>1</th>\n",
       "      <td>Without Promotion</td>\n",
       "      <td>981304</td>\n",
       "      <td>82335820</td>\n",
       "    </tr>\n",
       "  </tbody>\n",
       "</table>\n",
       "</div>"
      ],
      "text/plain": [
       "    promotion_status  ticket_count  total_sales\n",
       "0     With Promotion         18696      1055445\n",
       "1  Without Promotion        981304     82335820"
      ]
     },
     "execution_count": 7,
     "metadata": {},
     "output_type": "execute_result"
    }
   ],
   "source": [
    "df3.head()"
   ]
  },
  {
   "cell_type": "markdown",
   "id": "c59fea1d-ced3-46d3-bb7b-2990e6b06968",
   "metadata": {},
   "source": [
    "### Question 4: Total Sales in 2018 by Customer Genders and Weekday/Weekend\n",
    "Produce a pivot table on total sales in 2018, with two dimensions, namely, (i) the genders of the customers, and (ii) whether the movies are shown on weekdays or weekends."
   ]
  },
  {
   "cell_type": "code",
   "execution_count": 8,
   "id": "ffa9c88e-8f68-4713-8dae-cd59ae09d980",
   "metadata": {
    "tags": []
   },
   "outputs": [
    {
     "name": "stdout",
     "output_type": "stream",
     "text": [
      "Time taken: 3.82 seconds\n"
     ]
    }
   ],
   "source": [
    "conn = sqlite3.connect(db_name)\n",
    "start = time.time()\n",
    "\n",
    "query = '''\n",
    "    SELECT \n",
    "        CUSTOMER.gender,\n",
    "        CASE \n",
    "            WHEN strftime('%w', TICKET_TRANSACTION.dateTime) IN ('0', '6') THEN 'Weekend' \n",
    "            ELSE 'Weekday' \n",
    "        END AS day_type,\n",
    "        SUM(TICKET_TRANSACTION.totalPrice) AS total_sales\n",
    "    FROM TICKET_TRANSACTION\n",
    "    JOIN CUSTOMER ON TICKET_TRANSACTION.customerId = CUSTOMER.id\n",
    "    WHERE strftime('%Y', TICKET_TRANSACTION.dateTime) = '2018'\n",
    "    GROUP BY CUSTOMER.gender, day_type;\n",
    "'''\n",
    "\n",
    "df4 = pd.read_sql_query(query, conn)\n",
    "print(f\"Time taken: {time.time() - start:.2f} seconds\")\n",
    "\n",
    "conn.close()"
   ]
  },
  {
   "cell_type": "code",
   "execution_count": 9,
   "id": "caa946b2-17b0-4367-9384-8c66db326837",
   "metadata": {
    "tags": []
   },
   "outputs": [
    {
     "data": {
      "text/html": [
       "<div>\n",
       "<style scoped>\n",
       "    .dataframe tbody tr th:only-of-type {\n",
       "        vertical-align: middle;\n",
       "    }\n",
       "\n",
       "    .dataframe tbody tr th {\n",
       "        vertical-align: top;\n",
       "    }\n",
       "\n",
       "    .dataframe thead th {\n",
       "        text-align: right;\n",
       "    }\n",
       "</style>\n",
       "<table border=\"1\" class=\"dataframe\">\n",
       "  <thead>\n",
       "    <tr style=\"text-align: right;\">\n",
       "      <th></th>\n",
       "      <th>gender</th>\n",
       "      <th>day_type</th>\n",
       "      <th>total_sales</th>\n",
       "    </tr>\n",
       "  </thead>\n",
       "  <tbody>\n",
       "    <tr>\n",
       "      <th>0</th>\n",
       "      <td>F</td>\n",
       "      <td>Weekday</td>\n",
       "      <td>100743</td>\n",
       "    </tr>\n",
       "    <tr>\n",
       "      <th>1</th>\n",
       "      <td>F</td>\n",
       "      <td>Weekend</td>\n",
       "      <td>38914</td>\n",
       "    </tr>\n",
       "    <tr>\n",
       "      <th>2</th>\n",
       "      <td>M</td>\n",
       "      <td>Weekday</td>\n",
       "      <td>98988</td>\n",
       "    </tr>\n",
       "    <tr>\n",
       "      <th>3</th>\n",
       "      <td>M</td>\n",
       "      <td>Weekend</td>\n",
       "      <td>39582</td>\n",
       "    </tr>\n",
       "    <tr>\n",
       "      <th>4</th>\n",
       "      <td>U</td>\n",
       "      <td>Weekday</td>\n",
       "      <td>94801</td>\n",
       "    </tr>\n",
       "  </tbody>\n",
       "</table>\n",
       "</div>"
      ],
      "text/plain": [
       "  gender day_type  total_sales\n",
       "0      F  Weekday       100743\n",
       "1      F  Weekend        38914\n",
       "2      M  Weekday        98988\n",
       "3      M  Weekend        39582\n",
       "4      U  Weekday        94801"
      ]
     },
     "execution_count": 9,
     "metadata": {},
     "output_type": "execute_result"
    }
   ],
   "source": [
    "df4.head()"
   ]
  },
  {
   "cell_type": "markdown",
   "id": "4e281428-d8e4-442b-85b7-243771c2351f",
   "metadata": {},
   "source": [
    "### Question 5: Total Sales in 2018 by Customer Genders and Part of the Day\n",
    "Produce a pivot table on total sales in 2018, with two dimensions, namely, (i) the genders of the customers, and (ii) whether the movie is shown in the morning, in the afternoon, or at evening"
   ]
  },
  {
   "cell_type": "code",
   "execution_count": 10,
   "id": "861124f1-9439-48e4-8208-53ed1d31c9ad",
   "metadata": {
    "tags": []
   },
   "outputs": [
    {
     "name": "stdout",
     "output_type": "stream",
     "text": [
      "Time taken: 4.11 seconds\n"
     ]
    }
   ],
   "source": [
    "conn = sqlite3.connect(db_name)\n",
    "start = time.time()\n",
    "\n",
    "query = '''\n",
    "    SELECT \n",
    "        CUSTOMER.gender,\n",
    "        CASE \n",
    "            WHEN strftime('%H', SESSION.dateTime) BETWEEN '00' AND '11' THEN 'Morning'\n",
    "            WHEN strftime('%H', SESSION.dateTime) BETWEEN '12' AND '17' THEN 'Afternoon'\n",
    "            ELSE 'Evening'\n",
    "        END AS part_of_day,\n",
    "        SUM(TICKET_TRANSACTION.totalPrice) AS total_sales\n",
    "    FROM TICKET_TRANSACTION\n",
    "    JOIN CUSTOMER ON TICKET_TRANSACTION.customerId = CUSTOMER.id\n",
    "    JOIN SESSION ON TICKET_TRANSACTION.sessionId = SESSION.id\n",
    "    WHERE strftime('%Y', TICKET_TRANSACTION.dateTime) = '2018'\n",
    "    GROUP BY CUSTOMER.gender, part_of_day;\n",
    "'''\n",
    "\n",
    "df5 = pd.read_sql_query(query, conn)\n",
    "print(f\"Time taken: {time.time() - start:.2f} seconds\")\n",
    "\n",
    "conn.close()"
   ]
  },
  {
   "cell_type": "code",
   "execution_count": 11,
   "id": "94b1b080-7cbb-4761-9712-60afb3b32756",
   "metadata": {
    "tags": []
   },
   "outputs": [
    {
     "data": {
      "text/html": [
       "<div>\n",
       "<style scoped>\n",
       "    .dataframe tbody tr th:only-of-type {\n",
       "        vertical-align: middle;\n",
       "    }\n",
       "\n",
       "    .dataframe tbody tr th {\n",
       "        vertical-align: top;\n",
       "    }\n",
       "\n",
       "    .dataframe thead th {\n",
       "        text-align: right;\n",
       "    }\n",
       "</style>\n",
       "<table border=\"1\" class=\"dataframe\">\n",
       "  <thead>\n",
       "    <tr style=\"text-align: right;\">\n",
       "      <th></th>\n",
       "      <th>gender</th>\n",
       "      <th>part_of_day</th>\n",
       "      <th>total_sales</th>\n",
       "    </tr>\n",
       "  </thead>\n",
       "  <tbody>\n",
       "    <tr>\n",
       "      <th>0</th>\n",
       "      <td>F</td>\n",
       "      <td>Afternoon</td>\n",
       "      <td>31311</td>\n",
       "    </tr>\n",
       "    <tr>\n",
       "      <th>1</th>\n",
       "      <td>F</td>\n",
       "      <td>Evening</td>\n",
       "      <td>32231</td>\n",
       "    </tr>\n",
       "    <tr>\n",
       "      <th>2</th>\n",
       "      <td>F</td>\n",
       "      <td>Morning</td>\n",
       "      <td>76115</td>\n",
       "    </tr>\n",
       "    <tr>\n",
       "      <th>3</th>\n",
       "      <td>M</td>\n",
       "      <td>Afternoon</td>\n",
       "      <td>30431</td>\n",
       "    </tr>\n",
       "    <tr>\n",
       "      <th>4</th>\n",
       "      <td>M</td>\n",
       "      <td>Evening</td>\n",
       "      <td>34608</td>\n",
       "    </tr>\n",
       "  </tbody>\n",
       "</table>\n",
       "</div>"
      ],
      "text/plain": [
       "  gender part_of_day  total_sales\n",
       "0      F   Afternoon        31311\n",
       "1      F     Evening        32231\n",
       "2      F     Morning        76115\n",
       "3      M   Afternoon        30431\n",
       "4      M     Evening        34608"
      ]
     },
     "execution_count": 11,
     "metadata": {},
     "output_type": "execute_result"
    }
   ],
   "source": [
    "df5.head()"
   ]
  },
  {
   "cell_type": "markdown",
   "id": "a1e35a66-9cf8-43ad-82a3-aa3f02e36b76",
   "metadata": {},
   "source": [
    "### Question 6: Total Number of Tickets Sold in 2018 by Customer Genders and Number of Tickets per Transaction\n",
    "Produce a pivot table on total number of tickets sold in 2018, with two dimensions, namely, (i) the genders of the customers, and (ii) the numbers of tickets bought in each transaction."
   ]
  },
  {
   "cell_type": "code",
   "execution_count": 12,
   "id": "a27b9aab-4e6a-4f8d-8c96-85b57b4ef2bd",
   "metadata": {
    "tags": []
   },
   "outputs": [
    {
     "name": "stdout",
     "output_type": "stream",
     "text": [
      "Time taken: 3.80 seconds\n"
     ]
    }
   ],
   "source": [
    "conn = sqlite3.connect(db_name)\n",
    "start = time.time()\n",
    "\n",
    "query = '''\n",
    "    SELECT\n",
    "        C.gender AS CustomerGender,\n",
    "        TT.numTickets AS NumberOfTickets,\n",
    "        COUNT(*) AS TotalTicketsSold\n",
    "    FROM TICKET_TRANSACTION TT\n",
    "    JOIN CUSTOMER C ON TT.customerId = C.id\n",
    "    WHERE strftime('%Y', TT.dateTime) = '2018'\n",
    "    GROUP BY C.gender, TT.numTickets\n",
    "    ORDER BY C.gender, TT.numTickets;\n",
    "'''\n",
    "\n",
    "df6 = pd.read_sql_query(query, conn)\n",
    "print(f\"Time taken: {time.time() - start:.2f} seconds\")\n",
    "\n",
    "conn.close()"
   ]
  },
  {
   "cell_type": "code",
   "execution_count": 13,
   "id": "0192ad85-7998-4a2a-93c2-82efe443c5ef",
   "metadata": {
    "tags": []
   },
   "outputs": [
    {
     "data": {
      "text/html": [
       "<div>\n",
       "<style scoped>\n",
       "    .dataframe tbody tr th:only-of-type {\n",
       "        vertical-align: middle;\n",
       "    }\n",
       "\n",
       "    .dataframe tbody tr th {\n",
       "        vertical-align: top;\n",
       "    }\n",
       "\n",
       "    .dataframe thead th {\n",
       "        text-align: right;\n",
       "    }\n",
       "</style>\n",
       "<table border=\"1\" class=\"dataframe\">\n",
       "  <thead>\n",
       "    <tr style=\"text-align: right;\">\n",
       "      <th></th>\n",
       "      <th>CustomerGender</th>\n",
       "      <th>NumberOfTickets</th>\n",
       "      <th>TotalTicketsSold</th>\n",
       "    </tr>\n",
       "  </thead>\n",
       "  <tbody>\n",
       "    <tr>\n",
       "      <th>0</th>\n",
       "      <td>F</td>\n",
       "      <td>1</td>\n",
       "      <td>350</td>\n",
       "    </tr>\n",
       "    <tr>\n",
       "      <th>1</th>\n",
       "      <td>F</td>\n",
       "      <td>2</td>\n",
       "      <td>306</td>\n",
       "    </tr>\n",
       "    <tr>\n",
       "      <th>2</th>\n",
       "      <td>F</td>\n",
       "      <td>3</td>\n",
       "      <td>362</td>\n",
       "    </tr>\n",
       "    <tr>\n",
       "      <th>3</th>\n",
       "      <td>F</td>\n",
       "      <td>4</td>\n",
       "      <td>322</td>\n",
       "    </tr>\n",
       "    <tr>\n",
       "      <th>4</th>\n",
       "      <td>F</td>\n",
       "      <td>5</td>\n",
       "      <td>348</td>\n",
       "    </tr>\n",
       "  </tbody>\n",
       "</table>\n",
       "</div>"
      ],
      "text/plain": [
       "  CustomerGender  NumberOfTickets  TotalTicketsSold\n",
       "0              F                1               350\n",
       "1              F                2               306\n",
       "2              F                3               362\n",
       "3              F                4               322\n",
       "4              F                5               348"
      ]
     },
     "execution_count": 13,
     "metadata": {},
     "output_type": "execute_result"
    }
   ],
   "source": [
    "df6.head()"
   ]
  },
  {
   "cell_type": "markdown",
   "id": "c549f31e-be92-4412-aaf5-797b3734e567",
   "metadata": {},
   "source": [
    "### Question 7: Total Sales from 2012 to 2018 for Movies Directed by Mohamed Khan\n",
    "Produce a pivot table on total sales from 2012 to 2018 for movies directed by Mohamed Khan, with two dimensions, namely, (i) the years of transactions, and (ii) the time of showing the movie."
   ]
  },
  {
   "cell_type": "code",
   "execution_count": 14,
   "id": "efff1cc5-c996-4693-b785-c788a599a1db",
   "metadata": {
    "tags": []
   },
   "outputs": [
    {
     "name": "stdout",
     "output_type": "stream",
     "text": [
      "Time taken: 6.22 seconds\n"
     ]
    }
   ],
   "source": [
    "conn = sqlite3.connect(db_name)\n",
    "start = time.time()\n",
    "\n",
    "query = '''\n",
    "    SELECT \n",
    "        strftime('%Y', tt.dateTime) AS transaction_year,\n",
    "        strftime('%H:%M', s.dateTime) AS showing_time,\n",
    "        SUM(tt.totalPrice) AS total_sales\n",
    "    FROM TICKET_TRANSACTION tt\n",
    "    JOIN SESSION s ON tt.sessionId = s.id\n",
    "    JOIN MOVIE m ON s.movieId = m.id\n",
    "    JOIN CAST c ON m.id = c.movieId\n",
    "    JOIN ARTIST a ON c.artistId = a.id\n",
    "    WHERE \n",
    "        a.name = 'Mohamed Khan' AND \n",
    "        c.isDirector = 1 AND \n",
    "        strftime('%Y', tt.dateTime) BETWEEN '2012' AND '2018'\n",
    "    GROUP BY \n",
    "        transaction_year, \n",
    "        showing_time\n",
    "    ORDER BY \n",
    "        transaction_year, \n",
    "        showing_time;\n",
    "'''\n",
    "\n",
    "df7 = pd.read_sql_query(query, conn)\n",
    "print(f\"Time taken: {time.time() - start:.2f} seconds\")\n",
    "\n",
    "conn.close()"
   ]
  },
  {
   "cell_type": "code",
   "execution_count": 15,
   "id": "77143555-32cc-428a-9e89-0a7cf82eef39",
   "metadata": {
    "tags": []
   },
   "outputs": [
    {
     "data": {
      "text/html": [
       "<div>\n",
       "<style scoped>\n",
       "    .dataframe tbody tr th:only-of-type {\n",
       "        vertical-align: middle;\n",
       "    }\n",
       "\n",
       "    .dataframe tbody tr th {\n",
       "        vertical-align: top;\n",
       "    }\n",
       "\n",
       "    .dataframe thead th {\n",
       "        text-align: right;\n",
       "    }\n",
       "</style>\n",
       "<table border=\"1\" class=\"dataframe\">\n",
       "  <thead>\n",
       "    <tr style=\"text-align: right;\">\n",
       "      <th></th>\n",
       "      <th>transaction_year</th>\n",
       "      <th>showing_time</th>\n",
       "      <th>total_sales</th>\n",
       "    </tr>\n",
       "  </thead>\n",
       "  <tbody>\n",
       "    <tr>\n",
       "      <th>0</th>\n",
       "      <td>2017</td>\n",
       "      <td>00:45</td>\n",
       "      <td>8575</td>\n",
       "    </tr>\n",
       "    <tr>\n",
       "      <th>1</th>\n",
       "      <td>2017</td>\n",
       "      <td>02:45</td>\n",
       "      <td>9500</td>\n",
       "    </tr>\n",
       "    <tr>\n",
       "      <th>2</th>\n",
       "      <td>2017</td>\n",
       "      <td>04:15</td>\n",
       "      <td>9735</td>\n",
       "    </tr>\n",
       "    <tr>\n",
       "      <th>3</th>\n",
       "      <td>2017</td>\n",
       "      <td>05:30</td>\n",
       "      <td>6770</td>\n",
       "    </tr>\n",
       "    <tr>\n",
       "      <th>4</th>\n",
       "      <td>2017</td>\n",
       "      <td>08:15</td>\n",
       "      <td>15875</td>\n",
       "    </tr>\n",
       "  </tbody>\n",
       "</table>\n",
       "</div>"
      ],
      "text/plain": [
       "  transaction_year showing_time  total_sales\n",
       "0             2017        00:45         8575\n",
       "1             2017        02:45         9500\n",
       "2             2017        04:15         9735\n",
       "3             2017        05:30         6770\n",
       "4             2017        08:15        15875"
      ]
     },
     "execution_count": 15,
     "metadata": {},
     "output_type": "execute_result"
    }
   ],
   "source": [
    "df7.head()"
   ]
  },
  {
   "cell_type": "markdown",
   "id": "6a4e2dc6-552e-422e-a783-0508ebd4cc3e",
   "metadata": {},
   "source": [
    "### Question 8: Total Sales for Movies Where Omar Sharif Was Cast, by Movie Genres and Cinema States\n",
    "Produce a pivot table on total sales for movies where Omar Sharif was casted in, with two dimensions, namely, (i) genres of the movies, and (ii) states in which the cinemas are located."
   ]
  },
  {
   "cell_type": "code",
   "execution_count": 16,
   "id": "ab3c78e2-135e-4a3a-a9cf-6f69cebd7045",
   "metadata": {
    "tags": []
   },
   "outputs": [
    {
     "name": "stdout",
     "output_type": "stream",
     "text": [
      "Time taken: 12.26 seconds\n"
     ]
    }
   ],
   "source": [
    "conn = sqlite3.connect(db_name)\n",
    "start = time.time()\n",
    "\n",
    "query = '''\n",
    "    SELECT \n",
    "        m.genre AS movie_genre,\n",
    "        s.state AS cinema_state,\n",
    "        SUM(tt.totalPrice) AS total_sales\n",
    "    FROM TICKET_TRANSACTION tt\n",
    "    JOIN SESSION s ON tt.sessionId = s.id\n",
    "    JOIN MOVIE m ON s.movieId = m.id\n",
    "    JOIN CAST c ON m.id = c.movieId\n",
    "    JOIN ARTIST a ON c.artistId = a.id\n",
    "    WHERE \n",
    "        a.name = 'Omar Sharif'\n",
    "    GROUP BY \n",
    "        movie_genre, \n",
    "        cinema_state\n",
    "    ORDER BY \n",
    "        movie_genre, \n",
    "        cinema_state;\n",
    "'''\n",
    "\n",
    "df8 = pd.read_sql_query(query, conn)\n",
    "print(f\"Time taken: {time.time() - start:.2f} seconds\")\n",
    "\n",
    "conn.close()"
   ]
  },
  {
   "cell_type": "code",
   "execution_count": 17,
   "id": "ef04d95a-8df4-495d-9305-1436e962c2c5",
   "metadata": {
    "tags": []
   },
   "outputs": [
    {
     "data": {
      "text/html": [
       "<div>\n",
       "<style scoped>\n",
       "    .dataframe tbody tr th:only-of-type {\n",
       "        vertical-align: middle;\n",
       "    }\n",
       "\n",
       "    .dataframe tbody tr th {\n",
       "        vertical-align: top;\n",
       "    }\n",
       "\n",
       "    .dataframe thead th {\n",
       "        text-align: right;\n",
       "    }\n",
       "</style>\n",
       "<table border=\"1\" class=\"dataframe\">\n",
       "  <thead>\n",
       "    <tr style=\"text-align: right;\">\n",
       "      <th></th>\n",
       "      <th>movie_genre</th>\n",
       "      <th>cinema_state</th>\n",
       "      <th>total_sales</th>\n",
       "    </tr>\n",
       "  </thead>\n",
       "  <tbody>\n",
       "    <tr>\n",
       "      <th>0</th>\n",
       "      <td>Mystery</td>\n",
       "      <td>California</td>\n",
       "      <td>25245</td>\n",
       "    </tr>\n",
       "    <tr>\n",
       "      <th>1</th>\n",
       "      <td>Mystery</td>\n",
       "      <td>Florida</td>\n",
       "      <td>32315</td>\n",
       "    </tr>\n",
       "    <tr>\n",
       "      <th>2</th>\n",
       "      <td>Mystery</td>\n",
       "      <td>Georgia</td>\n",
       "      <td>78205</td>\n",
       "    </tr>\n",
       "    <tr>\n",
       "      <th>3</th>\n",
       "      <td>Mystery</td>\n",
       "      <td>Illinois</td>\n",
       "      <td>15385</td>\n",
       "    </tr>\n",
       "    <tr>\n",
       "      <th>4</th>\n",
       "      <td>Mystery</td>\n",
       "      <td>Pennsylvania</td>\n",
       "      <td>23835</td>\n",
       "    </tr>\n",
       "  </tbody>\n",
       "</table>\n",
       "</div>"
      ],
      "text/plain": [
       "  movie_genre  cinema_state  total_sales\n",
       "0     Mystery    California        25245\n",
       "1     Mystery       Florida        32315\n",
       "2     Mystery       Georgia        78205\n",
       "3     Mystery      Illinois        15385\n",
       "4     Mystery  Pennsylvania        23835"
      ]
     },
     "execution_count": 17,
     "metadata": {},
     "output_type": "execute_result"
    }
   ],
   "source": [
    "df8.head()"
   ]
  },
  {
   "cell_type": "markdown",
   "id": "bb59429b-5500-4c86-87f7-0e585b618fb8",
   "metadata": {},
   "source": [
    "### Question 9: Total Sales for Offline Transactions in 2015 by Cinema States and Hall Size\n",
    "Produce a pivot table on total sales for offline transactions in 2015, with two dimensions, namely, (i) the states in which the cinemas are located, and (ii) whether the movie is shown in a small-size, mid-size, or large-size hall. (You can define your own categorization of small-size, mid-size, and large-size halls.)"
   ]
  },
  {
   "cell_type": "code",
   "execution_count": 18,
   "id": "561c3531-e025-472e-b05a-c448822189e4",
   "metadata": {
    "tags": []
   },
   "outputs": [
    {
     "name": "stdout",
     "output_type": "stream",
     "text": [
      "Time taken: 3.96 seconds\n"
     ]
    }
   ],
   "source": [
    "conn = sqlite3.connect(db_name)\n",
    "start = time.time()\n",
    "\n",
    "query = '''\n",
    "    SELECT \n",
    "        s.state AS cinema_state,\n",
    "        CASE \n",
    "            WHEN s.size <= 100 THEN 'Small-size'\n",
    "            WHEN s.size > 100 AND s.size <= 200 THEN 'Mid-size'\n",
    "            ELSE 'Large-size'\n",
    "        END AS hall_size_category,\n",
    "        SUM(tt.totalPrice) AS total_sales\n",
    "    FROM TICKET_TRANSACTION tt\n",
    "    JOIN SESSION s ON tt.sessionId = s.id\n",
    "    WHERE \n",
    "        tt.payMethod != 'Online' AND \n",
    "        strftime('%Y', tt.dateTime) = '2015'\n",
    "    GROUP BY \n",
    "        cinema_state, \n",
    "        hall_size_category\n",
    "    ORDER BY \n",
    "        cinema_state, \n",
    "        hall_size_category;\n",
    "'''\n",
    "\n",
    "df9 = pd.read_sql_query(query, conn)\n",
    "print(f\"Time taken: {time.time() - start:.2f} seconds\")\n",
    "\n",
    "conn.close()"
   ]
  },
  {
   "cell_type": "code",
   "execution_count": 19,
   "id": "a3cab5ea-b102-4a16-88b5-416e3a16ce26",
   "metadata": {
    "tags": []
   },
   "outputs": [
    {
     "data": {
      "text/html": [
       "<div>\n",
       "<style scoped>\n",
       "    .dataframe tbody tr th:only-of-type {\n",
       "        vertical-align: middle;\n",
       "    }\n",
       "\n",
       "    .dataframe tbody tr th {\n",
       "        vertical-align: top;\n",
       "    }\n",
       "\n",
       "    .dataframe thead th {\n",
       "        text-align: right;\n",
       "    }\n",
       "</style>\n",
       "<table border=\"1\" class=\"dataframe\">\n",
       "  <thead>\n",
       "    <tr style=\"text-align: right;\">\n",
       "      <th></th>\n",
       "      <th>cinema_state</th>\n",
       "      <th>hall_size_category</th>\n",
       "      <th>total_sales</th>\n",
       "    </tr>\n",
       "  </thead>\n",
       "  <tbody>\n",
       "    <tr>\n",
       "      <th>0</th>\n",
       "      <td>California</td>\n",
       "      <td>Large-size</td>\n",
       "      <td>62685</td>\n",
       "    </tr>\n",
       "    <tr>\n",
       "      <th>1</th>\n",
       "      <td>California</td>\n",
       "      <td>Mid-size</td>\n",
       "      <td>128200</td>\n",
       "    </tr>\n",
       "    <tr>\n",
       "      <th>2</th>\n",
       "      <td>California</td>\n",
       "      <td>Small-size</td>\n",
       "      <td>123656</td>\n",
       "    </tr>\n",
       "    <tr>\n",
       "      <th>3</th>\n",
       "      <td>Florida</td>\n",
       "      <td>Large-size</td>\n",
       "      <td>120344</td>\n",
       "    </tr>\n",
       "    <tr>\n",
       "      <th>4</th>\n",
       "      <td>Florida</td>\n",
       "      <td>Mid-size</td>\n",
       "      <td>97393</td>\n",
       "    </tr>\n",
       "  </tbody>\n",
       "</table>\n",
       "</div>"
      ],
      "text/plain": [
       "  cinema_state hall_size_category  total_sales\n",
       "0   California         Large-size        62685\n",
       "1   California           Mid-size       128200\n",
       "2   California         Small-size       123656\n",
       "3      Florida         Large-size       120344\n",
       "4      Florida           Mid-size        97393"
      ]
     },
     "execution_count": 19,
     "metadata": {},
     "output_type": "execute_result"
    }
   ],
   "source": [
    "df9.head()"
   ]
  },
  {
   "cell_type": "markdown",
   "id": "2a89866e-aedb-46be-be84-30b3d2882ff5",
   "metadata": {
    "tags": []
   },
   "source": [
    "### Question 10: Total Sales from 2012 to 2015 by Customer Genders and Age Groups\n",
    "Produce a pivot table on the total sales from 2012 to 2015, with two dimensions, namely, (i) the genders of the customers, and (ii) the ages of the customers at the time of ticket purchase, with ROLLUP to age groups. (You can define your own categorization of age groups, e.g., [1, 10], [11, 20], [21, 30], etc."
   ]
  },
  {
   "cell_type": "code",
   "execution_count": 20,
   "id": "fd0c0634-9175-45c7-9320-a91c224fbc11",
   "metadata": {
    "tags": []
   },
   "outputs": [
    {
     "name": "stdout",
     "output_type": "stream",
     "text": [
      "Time taken: 4.16 seconds\n"
     ]
    }
   ],
   "source": [
    "conn = sqlite3.connect(db_name)\n",
    "start = time.time()\n",
    "\n",
    "query = '''\n",
    "    SELECT\n",
    "        C.gender AS Gender,\n",
    "        CASE\n",
    "            WHEN CAST((strftime('%Y', TT.dateTime) - strftime('%Y', C.dob)) / 10 AS INTEGER) * 10 < 20 THEN '1-20'\n",
    "            WHEN CAST((strftime('%Y', TT.dateTime) - strftime('%Y', C.dob)) / 10 AS INTEGER) * 10 BETWEEN 20 AND 30 THEN '21-30'\n",
    "            WHEN CAST((strftime('%Y', TT.dateTime) - strftime('%Y', C.dob)) / 10 AS INTEGER) * 10 BETWEEN 30 AND 40 THEN '31-40'\n",
    "            ELSE '41+' END AS Age_Group,\n",
    "        SUM(TT.totalPrice) AS Total_Sales\n",
    "    FROM TICKET_TRANSACTION TT\n",
    "    JOIN CUSTOMER C ON TT.customerId = C.id\n",
    "    WHERE strftime('%Y', TT.dateTime) BETWEEN '2012' AND '2015'\n",
    "    GROUP BY Gender, Age_Group\n",
    "'''\n",
    "\n",
    "df10 = pd.read_sql_query(query, conn)\n",
    "print(f\"Time taken: {time.time() - start:.2f} seconds\")\n",
    "\n",
    "conn.close()"
   ]
  },
  {
   "cell_type": "code",
   "execution_count": 21,
   "id": "303c00b9-cd1d-4034-8454-fce83fe4b39d",
   "metadata": {
    "tags": []
   },
   "outputs": [
    {
     "data": {
      "text/html": [
       "<div>\n",
       "<style scoped>\n",
       "    .dataframe tbody tr th:only-of-type {\n",
       "        vertical-align: middle;\n",
       "    }\n",
       "\n",
       "    .dataframe tbody tr th {\n",
       "        vertical-align: top;\n",
       "    }\n",
       "\n",
       "    .dataframe thead th {\n",
       "        text-align: right;\n",
       "    }\n",
       "</style>\n",
       "<table border=\"1\" class=\"dataframe\">\n",
       "  <thead>\n",
       "    <tr style=\"text-align: right;\">\n",
       "      <th></th>\n",
       "      <th>Gender</th>\n",
       "      <th>Age_Group</th>\n",
       "      <th>Total_Sales</th>\n",
       "    </tr>\n",
       "  </thead>\n",
       "  <tbody>\n",
       "    <tr>\n",
       "      <th>0</th>\n",
       "      <td>F</td>\n",
       "      <td>1-20</td>\n",
       "      <td>54995</td>\n",
       "    </tr>\n",
       "    <tr>\n",
       "      <th>1</th>\n",
       "      <td>F</td>\n",
       "      <td>21-30</td>\n",
       "      <td>97896</td>\n",
       "    </tr>\n",
       "    <tr>\n",
       "      <th>2</th>\n",
       "      <td>F</td>\n",
       "      <td>31-40</td>\n",
       "      <td>49933</td>\n",
       "    </tr>\n",
       "    <tr>\n",
       "      <th>3</th>\n",
       "      <td>F</td>\n",
       "      <td>41+</td>\n",
       "      <td>165313</td>\n",
       "    </tr>\n",
       "    <tr>\n",
       "      <th>4</th>\n",
       "      <td>M</td>\n",
       "      <td>1-20</td>\n",
       "      <td>56390</td>\n",
       "    </tr>\n",
       "  </tbody>\n",
       "</table>\n",
       "</div>"
      ],
      "text/plain": [
       "  Gender Age_Group  Total_Sales\n",
       "0      F      1-20        54995\n",
       "1      F     21-30        97896\n",
       "2      F     31-40        49933\n",
       "3      F       41+       165313\n",
       "4      M      1-20        56390"
      ]
     },
     "execution_count": 21,
     "metadata": {},
     "output_type": "execute_result"
    }
   ],
   "source": [
    "df10.head()"
   ]
  },
  {
   "cell_type": "markdown",
   "id": "cdb38875-71df-4695-8aa7-1a851fecb8bc",
   "metadata": {},
   "source": [
    "### Question 11: Ranking Cinemas by Total Sales in 2018 for Each City\n",
    "For each city, rank the cinemas in the city in descending order of total sales in 2018.\n",
    "\n",
    "\n",
    "Need to change the address of the cinema"
   ]
  },
  {
   "cell_type": "code",
   "execution_count": 22,
   "id": "690a0d48-d3ba-45e8-87f9-c7361d896fc9",
   "metadata": {
    "tags": []
   },
   "outputs": [
    {
     "name": "stdout",
     "output_type": "stream",
     "text": [
      "Time taken: 4.17 seconds\n"
     ]
    }
   ],
   "source": [
    "conn = sqlite3.connect(db_name)\n",
    "start = time.time()\n",
    "\n",
    "query = '''\n",
    "    SELECT\n",
    "        City,\n",
    "        Cinema,\n",
    "        SUM(Total_Sales) AS Total_Sales,\n",
    "        RANK() OVER(PARTITION BY City ORDER BY SUM(Total_Sales) DESC) AS Rank\n",
    "    FROM (\n",
    "        SELECT\n",
    "            S.city AS City,\n",
    "            S.address AS Cinema,\n",
    "            TT.totalPrice AS Total_Sales\n",
    "        FROM TICKET_TRANSACTION TT\n",
    "        JOIN SESSION S ON TT.sessionId = S.id\n",
    "        WHERE strftime('%Y', TT.dateTime) = '2018'\n",
    "    ) AS Subquery\n",
    "    GROUP BY City, Cinema\n",
    "    ORDER BY City, Rank;\n",
    "'''\n",
    "\n",
    "df11 = pd.read_sql_query(query, conn)\n",
    "print(f\"Time taken: {time.time() - start:.2f} seconds\")\n",
    "\n",
    "conn.close()"
   ]
  },
  {
   "cell_type": "code",
   "execution_count": 23,
   "id": "81486712-1474-42d4-8b86-920f18d6e99d",
   "metadata": {
    "tags": []
   },
   "outputs": [
    {
     "data": {
      "text/html": [
       "<div>\n",
       "<style scoped>\n",
       "    .dataframe tbody tr th:only-of-type {\n",
       "        vertical-align: middle;\n",
       "    }\n",
       "\n",
       "    .dataframe tbody tr th {\n",
       "        vertical-align: top;\n",
       "    }\n",
       "\n",
       "    .dataframe thead th {\n",
       "        text-align: right;\n",
       "    }\n",
       "</style>\n",
       "<table border=\"1\" class=\"dataframe\">\n",
       "  <thead>\n",
       "    <tr style=\"text-align: right;\">\n",
       "      <th></th>\n",
       "      <th>City</th>\n",
       "      <th>Cinema</th>\n",
       "      <th>Total_Sales</th>\n",
       "      <th>Rank</th>\n",
       "    </tr>\n",
       "  </thead>\n",
       "  <tbody>\n",
       "    <tr>\n",
       "      <th>0</th>\n",
       "      <td>Allentown</td>\n",
       "      <td>88034 Baker Trafficway</td>\n",
       "      <td>99205</td>\n",
       "      <td>1</td>\n",
       "    </tr>\n",
       "    <tr>\n",
       "      <th>1</th>\n",
       "      <td>Allentown</td>\n",
       "      <td>0794 Miller Place</td>\n",
       "      <td>63935</td>\n",
       "      <td>2</td>\n",
       "    </tr>\n",
       "    <tr>\n",
       "      <th>2</th>\n",
       "      <td>Allentown</td>\n",
       "      <td>3419 Griffin Keys</td>\n",
       "      <td>37965</td>\n",
       "      <td>3</td>\n",
       "    </tr>\n",
       "    <tr>\n",
       "      <th>3</th>\n",
       "      <td>Atlanta</td>\n",
       "      <td>049 William Parkways</td>\n",
       "      <td>107937</td>\n",
       "      <td>1</td>\n",
       "    </tr>\n",
       "    <tr>\n",
       "      <th>4</th>\n",
       "      <td>Atlanta</td>\n",
       "      <td>38418 Vincent Passage Suite 503</td>\n",
       "      <td>101992</td>\n",
       "      <td>2</td>\n",
       "    </tr>\n",
       "  </tbody>\n",
       "</table>\n",
       "</div>"
      ],
      "text/plain": [
       "        City                           Cinema  Total_Sales  Rank\n",
       "0  Allentown           88034 Baker Trafficway        99205     1\n",
       "1  Allentown                0794 Miller Place        63935     2\n",
       "2  Allentown                3419 Griffin Keys        37965     3\n",
       "3    Atlanta             049 William Parkways       107937     1\n",
       "4    Atlanta  38418 Vincent Passage Suite 503       101992     2"
      ]
     },
     "execution_count": 23,
     "metadata": {},
     "output_type": "execute_result"
    }
   ],
   "source": [
    "df11.head()"
   ]
  },
  {
   "cell_type": "markdown",
   "id": "9547cdfd-8cf1-4a01-ae10-042b42fb4a47",
   "metadata": {},
   "source": [
    "### Question 12: Ranking Movies by Total Sales for Directors, Under-50 Audience\n",
    "For each director, rank his/her movies in descending orders of total sales for customers with ages under 50 (at the time of ticket purchases)."
   ]
  },
  {
   "cell_type": "code",
   "execution_count": 24,
   "id": "50ebfd9a-9330-451d-a30c-3960ecc1e23b",
   "metadata": {
    "tags": []
   },
   "outputs": [
    {
     "name": "stdout",
     "output_type": "stream",
     "text": [
      "Time taken: 3.79 seconds\n"
     ]
    }
   ],
   "source": [
    "conn = sqlite3.connect(db_name)\n",
    "start = time.time()\n",
    "\n",
    "query = '''\n",
    "    SELECT\n",
    "        A.name AS Director,\n",
    "        M.title AS Movie,\n",
    "        SUM(TT.totalPrice) AS Total_Sales,\n",
    "        RANK() OVER(PARTITION BY A.name ORDER BY SUM(TT.totalPrice) DESC) AS Rank\n",
    "    FROM TICKET_TRANSACTION TT\n",
    "    JOIN CUSTOMER C ON TT.customerId = C.id\n",
    "    JOIN SESSION S ON TT.sessionId = S.id\n",
    "    JOIN MOVIE M ON S.movieId = M.id\n",
    "    JOIN CAST CA ON M.id = CA.movieId\n",
    "    JOIN ARTIST A ON CA.artistId = A.id\n",
    "    WHERE CA.isDirector = 1\n",
    "    AND (strftime('%Y', 'now') - strftime('%Y', C.dob)) < 50\n",
    "    GROUP BY Director, Movie\n",
    "'''\n",
    "\n",
    "df12 = pd.read_sql_query(query, conn)\n",
    "print(f\"Time taken: {time.time() - start:.2f} seconds\")\n",
    "\n",
    "conn.close()"
   ]
  },
  {
   "cell_type": "code",
   "execution_count": 25,
   "id": "a5bc22e2-abfc-4510-9969-d5c46e1b9235",
   "metadata": {
    "tags": []
   },
   "outputs": [
    {
     "data": {
      "text/html": [
       "<div>\n",
       "<style scoped>\n",
       "    .dataframe tbody tr th:only-of-type {\n",
       "        vertical-align: middle;\n",
       "    }\n",
       "\n",
       "    .dataframe tbody tr th {\n",
       "        vertical-align: top;\n",
       "    }\n",
       "\n",
       "    .dataframe thead th {\n",
       "        text-align: right;\n",
       "    }\n",
       "</style>\n",
       "<table border=\"1\" class=\"dataframe\">\n",
       "  <thead>\n",
       "    <tr style=\"text-align: right;\">\n",
       "      <th></th>\n",
       "      <th>Director</th>\n",
       "      <th>Movie</th>\n",
       "      <th>Total_Sales</th>\n",
       "      <th>Rank</th>\n",
       "    </tr>\n",
       "  </thead>\n",
       "  <tbody>\n",
       "    <tr>\n",
       "      <th>0</th>\n",
       "      <td>Aaron Ruiz</td>\n",
       "      <td>Implemented encompassing leverage</td>\n",
       "      <td>8775</td>\n",
       "      <td>1</td>\n",
       "    </tr>\n",
       "    <tr>\n",
       "      <th>1</th>\n",
       "      <td>Aaron Ruiz</td>\n",
       "      <td>Object-based context-sensitive standardization</td>\n",
       "      <td>7745</td>\n",
       "      <td>2</td>\n",
       "    </tr>\n",
       "    <tr>\n",
       "      <th>2</th>\n",
       "      <td>Aaron Ruiz</td>\n",
       "      <td>Phased content-based benchmark</td>\n",
       "      <td>7705</td>\n",
       "      <td>3</td>\n",
       "    </tr>\n",
       "    <tr>\n",
       "      <th>3</th>\n",
       "      <td>Aaron Ruiz</td>\n",
       "      <td>Upgradable attitude-oriented archive</td>\n",
       "      <td>7485</td>\n",
       "      <td>4</td>\n",
       "    </tr>\n",
       "    <tr>\n",
       "      <th>4</th>\n",
       "      <td>Aaron Ruiz</td>\n",
       "      <td>Front-line fresh-thinking time-frame</td>\n",
       "      <td>6996</td>\n",
       "      <td>5</td>\n",
       "    </tr>\n",
       "  </tbody>\n",
       "</table>\n",
       "</div>"
      ],
      "text/plain": [
       "     Director                                           Movie  Total_Sales  \\\n",
       "0  Aaron Ruiz               Implemented encompassing leverage         8775   \n",
       "1  Aaron Ruiz  Object-based context-sensitive standardization         7745   \n",
       "2  Aaron Ruiz                  Phased content-based benchmark         7705   \n",
       "3  Aaron Ruiz            Upgradable attitude-oriented archive         7485   \n",
       "4  Aaron Ruiz            Front-line fresh-thinking time-frame         6996   \n",
       "\n",
       "   Rank  \n",
       "0     1  \n",
       "1     2  \n",
       "2     3  \n",
       "3     4  \n",
       "4     5  "
      ]
     },
     "execution_count": 25,
     "metadata": {},
     "output_type": "execute_result"
    }
   ],
   "source": [
    "df12.head()"
   ]
  },
  {
   "cell_type": "markdown",
   "id": "89ee88b7-3e9c-44d4-99a7-40b324afc64b",
   "metadata": {},
   "source": [
    "### Question 13: Ranking Browsers by Transaction Numbers for Cinemas in Different States\n",
    "Consider the online transactions made with various browsers, for cinemas in different states. For each city, rank the browsers in descending order of the total numbers of transactions made."
   ]
  },
  {
   "cell_type": "code",
   "execution_count": 26,
   "id": "06b47c05-dff1-4d43-b61c-4015ce1c5c20",
   "metadata": {
    "tags": []
   },
   "outputs": [
    {
     "name": "stdout",
     "output_type": "stream",
     "text": [
      "Time taken: 4.47 seconds\n"
     ]
    }
   ],
   "source": [
    "conn = sqlite3.connect(db_name)\n",
    "start = time.time()\n",
    "\n",
    "query = '''\n",
    "    SELECT\n",
    "        City,\n",
    "        Browser,\n",
    "        COUNT(*) AS Total_Transactions,\n",
    "        RANK() OVER(PARTITION BY City ORDER BY COUNT(*) DESC) AS Rank\n",
    "    FROM (\n",
    "        SELECT\n",
    "            S.city AS City,\n",
    "            TT.browser AS Browser\n",
    "        FROM TICKET_TRANSACTION TT\n",
    "        JOIN SESSION s ON TT.sessionId = s.id\n",
    "        WHERE TT.browser IS NOT NULL\n",
    "    ) GROUP BY City, Browser\n",
    "'''\n",
    "\n",
    "df13 = pd.read_sql_query(query, conn)\n",
    "print(f\"Time taken: {time.time() - start:.2f} seconds\")\n",
    "\n",
    "conn.close()"
   ]
  },
  {
   "cell_type": "code",
   "execution_count": 27,
   "id": "b9553fb4-873f-449a-86a5-6dbd641a61a6",
   "metadata": {
    "tags": []
   },
   "outputs": [
    {
     "data": {
      "text/html": [
       "<div>\n",
       "<style scoped>\n",
       "    .dataframe tbody tr th:only-of-type {\n",
       "        vertical-align: middle;\n",
       "    }\n",
       "\n",
       "    .dataframe tbody tr th {\n",
       "        vertical-align: top;\n",
       "    }\n",
       "\n",
       "    .dataframe thead th {\n",
       "        text-align: right;\n",
       "    }\n",
       "</style>\n",
       "<table border=\"1\" class=\"dataframe\">\n",
       "  <thead>\n",
       "    <tr style=\"text-align: right;\">\n",
       "      <th></th>\n",
       "      <th>City</th>\n",
       "      <th>Browser</th>\n",
       "      <th>Total_Transactions</th>\n",
       "      <th>Rank</th>\n",
       "    </tr>\n",
       "  </thead>\n",
       "  <tbody>\n",
       "    <tr>\n",
       "      <th>0</th>\n",
       "      <td>Allentown</td>\n",
       "      <td>Chrome</td>\n",
       "      <td>31062</td>\n",
       "      <td>1</td>\n",
       "    </tr>\n",
       "    <tr>\n",
       "      <th>1</th>\n",
       "      <td>Allentown</td>\n",
       "      <td>Web Browser</td>\n",
       "      <td>8900</td>\n",
       "      <td>2</td>\n",
       "    </tr>\n",
       "    <tr>\n",
       "      <th>2</th>\n",
       "      <td>Allentown</td>\n",
       "      <td>Safari</td>\n",
       "      <td>4474</td>\n",
       "      <td>3</td>\n",
       "    </tr>\n",
       "    <tr>\n",
       "      <th>3</th>\n",
       "      <td>Atlanta</td>\n",
       "      <td>Chrome</td>\n",
       "      <td>39744</td>\n",
       "      <td>1</td>\n",
       "    </tr>\n",
       "    <tr>\n",
       "      <th>4</th>\n",
       "      <td>Atlanta</td>\n",
       "      <td>Web Browser</td>\n",
       "      <td>11520</td>\n",
       "      <td>2</td>\n",
       "    </tr>\n",
       "  </tbody>\n",
       "</table>\n",
       "</div>"
      ],
      "text/plain": [
       "        City      Browser  Total_Transactions  Rank\n",
       "0  Allentown       Chrome               31062     1\n",
       "1  Allentown  Web Browser                8900     2\n",
       "2  Allentown       Safari                4474     3\n",
       "3    Atlanta       Chrome               39744     1\n",
       "4    Atlanta  Web Browser               11520     2"
      ]
     },
     "execution_count": 27,
     "metadata": {},
     "output_type": "execute_result"
    }
   ],
   "source": [
    "df13.head()"
   ]
  },
  {
   "cell_type": "markdown",
   "id": "f81a6f87-4d58-4116-bea1-d854df3a4553",
   "metadata": {},
   "source": [
    "### Question 14: Top 13 Movies in 2013 by Gender\n",
    "Find the top 13 movies in 2013 (in terms of the total number of tickets sold) for male and female customers, respectively."
   ]
  },
  {
   "cell_type": "code",
   "execution_count": 28,
   "id": "fbf44307-6b93-45e9-9a07-1e38d34b4bb1",
   "metadata": {
    "tags": []
   },
   "outputs": [
    {
     "name": "stdout",
     "output_type": "stream",
     "text": [
      "Time taken: 3.71 seconds\n"
     ]
    }
   ],
   "source": [
    "conn = sqlite3.connect(db_name)\n",
    "start = time.time()\n",
    "\n",
    "query = '''\n",
    "    WITH GenderSales AS (\n",
    "        SELECT\n",
    "            M.title AS Movie,\n",
    "            C.gender,\n",
    "            COUNT(TT.id) AS Tickets_Sold\n",
    "        FROM TICKET_TRANSACTION TT\n",
    "        JOIN SESSION S ON TT.sessionId = S.id\n",
    "        JOIN MOVIE M ON S.movieId = M.id\n",
    "        JOIN CUSTOMER C ON TT.customerId = C.id\n",
    "        WHERE strftime('%Y', S.dateTime) = '2013'\n",
    "        GROUP BY M.title, C.gender\n",
    "    ),\n",
    "    RankedMovies AS (\n",
    "        SELECT\n",
    "            Movie,\n",
    "            gender,\n",
    "            Tickets_Sold,\n",
    "            RANK() OVER(PARTITION BY gender ORDER BY Tickets_Sold DESC) AS Rank\n",
    "        FROM GenderSales\n",
    "    )\n",
    "    SELECT *\n",
    "    FROM RankedMovies\n",
    "    WHERE Rank <= 13\n",
    "    ORDER BY gender, Rank;\n",
    "'''\n",
    "\n",
    "df14 = pd.read_sql_query(query, conn)\n",
    "print(f\"Time taken: {time.time() - start:.2f} seconds\")\n",
    "\n",
    "conn.close()"
   ]
  },
  {
   "cell_type": "code",
   "execution_count": 29,
   "id": "6862e4b0-d036-4d8c-b5a2-abcecdfde66e",
   "metadata": {
    "tags": []
   },
   "outputs": [
    {
     "data": {
      "text/html": [
       "<div>\n",
       "<style scoped>\n",
       "    .dataframe tbody tr th:only-of-type {\n",
       "        vertical-align: middle;\n",
       "    }\n",
       "\n",
       "    .dataframe tbody tr th {\n",
       "        vertical-align: top;\n",
       "    }\n",
       "\n",
       "    .dataframe thead th {\n",
       "        text-align: right;\n",
       "    }\n",
       "</style>\n",
       "<table border=\"1\" class=\"dataframe\">\n",
       "  <thead>\n",
       "    <tr style=\"text-align: right;\">\n",
       "      <th></th>\n",
       "      <th>Movie</th>\n",
       "      <th>gender</th>\n",
       "      <th>Tickets_Sold</th>\n",
       "      <th>Rank</th>\n",
       "    </tr>\n",
       "  </thead>\n",
       "  <tbody>\n",
       "    <tr>\n",
       "      <th>0</th>\n",
       "      <td>Inverse reciprocal secured line</td>\n",
       "      <td>F</td>\n",
       "      <td>100</td>\n",
       "      <td>1</td>\n",
       "    </tr>\n",
       "    <tr>\n",
       "      <th>1</th>\n",
       "      <td>Open-source system-worthy middleware</td>\n",
       "      <td>F</td>\n",
       "      <td>93</td>\n",
       "      <td>2</td>\n",
       "    </tr>\n",
       "    <tr>\n",
       "      <th>2</th>\n",
       "      <td>Self-enabling real-time task-force</td>\n",
       "      <td>F</td>\n",
       "      <td>85</td>\n",
       "      <td>3</td>\n",
       "    </tr>\n",
       "    <tr>\n",
       "      <th>3</th>\n",
       "      <td>Decentralized bottom-line collaboration</td>\n",
       "      <td>F</td>\n",
       "      <td>81</td>\n",
       "      <td>4</td>\n",
       "    </tr>\n",
       "    <tr>\n",
       "      <th>4</th>\n",
       "      <td>Automated foreground success</td>\n",
       "      <td>F</td>\n",
       "      <td>70</td>\n",
       "      <td>5</td>\n",
       "    </tr>\n",
       "  </tbody>\n",
       "</table>\n",
       "</div>"
      ],
      "text/plain": [
       "                                     Movie gender  Tickets_Sold  Rank\n",
       "0          Inverse reciprocal secured line      F           100     1\n",
       "1     Open-source system-worthy middleware      F            93     2\n",
       "2       Self-enabling real-time task-force      F            85     3\n",
       "3  Decentralized bottom-line collaboration      F            81     4\n",
       "4             Automated foreground success      F            70     5"
      ]
     },
     "execution_count": 29,
     "metadata": {},
     "output_type": "execute_result"
    }
   ],
   "source": [
    "df14.head()"
   ]
  },
  {
   "cell_type": "markdown",
   "id": "ae8e7c99-7c8b-4557-9872-de6e6c986275",
   "metadata": {},
   "source": [
    "### Question 15: Top 5 Movies by Ticket Sales for Each Cinema (2012-2018)\n",
    "For each cinema, find the top 5 movies in terms of the total number of tickets sold from 2012 to 2018."
   ]
  },
  {
   "cell_type": "code",
   "execution_count": 30,
   "id": "ff38ee17-9b93-4cbf-b595-2cd59f5edfb0",
   "metadata": {
    "tags": []
   },
   "outputs": [
    {
     "name": "stdout",
     "output_type": "stream",
     "text": [
      "Time taken: 0.61 seconds\n"
     ]
    }
   ],
   "source": [
    "conn = sqlite3.connect(db_name)\n",
    "start = time.time()\n",
    "\n",
    "query = '''\n",
    "    WITH CinemaSales AS (\n",
    "        SELECT\n",
    "            S.address || ', ' || S.state || ', ' || S.city  AS Cinema,\n",
    "            M.title AS Movie,\n",
    "            COUNT(TT.id) AS Tickets_Sold\n",
    "        FROM TICKET_TRANSACTION TT\n",
    "        JOIN SESSION S ON TT.sessionId = S.id\n",
    "        JOIN MOVIE M ON S.movieId = M.id\n",
    "        WHERE strftime('%Y', S.dateTime) BETWEEN '2012' AND '2018'\n",
    "        GROUP BY Cinema, M.title\n",
    "    ),\n",
    "    RankedMovies AS (\n",
    "        SELECT\n",
    "            Cinema,\n",
    "            Movie,\n",
    "            Tickets_Sold,\n",
    "            RANK() OVER(PARTITION BY Cinema ORDER BY Tickets_Sold DESC) AS Movie_Rank\n",
    "        FROM CinemaSales\n",
    "    )\n",
    "    SELECT *\n",
    "    FROM RankedMovies\n",
    "    WHERE Movie_Rank <= 5\n",
    "    ORDER BY Cinema, Movie_Rank;\n",
    "\n",
    "'''\n",
    "\n",
    "df15 = pd.read_sql_query(query, conn)\n",
    "print(f\"Time taken: {time.time() - start:.2f} seconds\")\n",
    "\n",
    "conn.close()"
   ]
  },
  {
   "cell_type": "code",
   "execution_count": 31,
   "id": "df05f233-e759-47b3-bb9a-186dc600b657",
   "metadata": {
    "tags": []
   },
   "outputs": [
    {
     "data": {
      "text/html": [
       "<div>\n",
       "<style scoped>\n",
       "    .dataframe tbody tr th:only-of-type {\n",
       "        vertical-align: middle;\n",
       "    }\n",
       "\n",
       "    .dataframe tbody tr th {\n",
       "        vertical-align: top;\n",
       "    }\n",
       "\n",
       "    .dataframe thead th {\n",
       "        text-align: right;\n",
       "    }\n",
       "</style>\n",
       "<table border=\"1\" class=\"dataframe\">\n",
       "  <thead>\n",
       "    <tr style=\"text-align: right;\">\n",
       "      <th></th>\n",
       "      <th>Cinema</th>\n",
       "      <th>Movie</th>\n",
       "      <th>Tickets_Sold</th>\n",
       "      <th>Movie_Rank</th>\n",
       "    </tr>\n",
       "  </thead>\n",
       "  <tbody>\n",
       "    <tr>\n",
       "      <th>0</th>\n",
       "      <td>0083 Jasmine Canyon Suite 151, Illinois, Sprin...</td>\n",
       "      <td>Stand-alone multimedia budgetary management</td>\n",
       "      <td>308</td>\n",
       "      <td>1</td>\n",
       "    </tr>\n",
       "    <tr>\n",
       "      <th>1</th>\n",
       "      <td>0083 Jasmine Canyon Suite 151, Illinois, Sprin...</td>\n",
       "      <td>Cross-platform high-level open system</td>\n",
       "      <td>212</td>\n",
       "      <td>2</td>\n",
       "    </tr>\n",
       "    <tr>\n",
       "      <th>2</th>\n",
       "      <td>0083 Jasmine Canyon Suite 151, Illinois, Sprin...</td>\n",
       "      <td>Horizontal optimal access</td>\n",
       "      <td>185</td>\n",
       "      <td>3</td>\n",
       "    </tr>\n",
       "    <tr>\n",
       "      <th>3</th>\n",
       "      <td>0083 Jasmine Canyon Suite 151, Illinois, Sprin...</td>\n",
       "      <td>Optional solution-oriented superstructure</td>\n",
       "      <td>183</td>\n",
       "      <td>4</td>\n",
       "    </tr>\n",
       "    <tr>\n",
       "      <th>4</th>\n",
       "      <td>0083 Jasmine Canyon Suite 151, Illinois, Sprin...</td>\n",
       "      <td>Optional bifurcated archive</td>\n",
       "      <td>181</td>\n",
       "      <td>5</td>\n",
       "    </tr>\n",
       "  </tbody>\n",
       "</table>\n",
       "</div>"
      ],
      "text/plain": [
       "                                              Cinema  \\\n",
       "0  0083 Jasmine Canyon Suite 151, Illinois, Sprin...   \n",
       "1  0083 Jasmine Canyon Suite 151, Illinois, Sprin...   \n",
       "2  0083 Jasmine Canyon Suite 151, Illinois, Sprin...   \n",
       "3  0083 Jasmine Canyon Suite 151, Illinois, Sprin...   \n",
       "4  0083 Jasmine Canyon Suite 151, Illinois, Sprin...   \n",
       "\n",
       "                                         Movie  Tickets_Sold  Movie_Rank  \n",
       "0  Stand-alone multimedia budgetary management           308           1  \n",
       "1        Cross-platform high-level open system           212           2  \n",
       "2                    Horizontal optimal access           185           3  \n",
       "3    Optional solution-oriented superstructure           183           4  \n",
       "4                  Optional bifurcated archive           181           5  "
      ]
     },
     "execution_count": 31,
     "metadata": {},
     "output_type": "execute_result"
    }
   ],
   "source": [
    "df15.head()"
   ]
  },
  {
   "cell_type": "markdown",
   "id": "f1fbc80e-d84f-4443-aa07-9cd752ed07e3",
   "metadata": {},
   "source": [
    "### Question 16: 5-Week Moving Average of Total Sales in 2017\n",
    "Compute the 5-week moving average of total sales, for each week in 2017."
   ]
  },
  {
   "cell_type": "code",
   "execution_count": 32,
   "id": "f09493dc-7e78-4942-afd0-42dd25eba14b",
   "metadata": {
    "tags": []
   },
   "outputs": [
    {
     "name": "stdout",
     "output_type": "stream",
     "text": [
      "Time taken: 4.10 seconds\n"
     ]
    }
   ],
   "source": [
    "conn = sqlite3.connect(db_name)\n",
    "start = time.time()\n",
    "\n",
    "query = '''\n",
    "    WITH Sales_Weeks AS (\n",
    "        SELECT\n",
    "            strftime('%W', TT.dateTime) AS Week,\n",
    "            SUM(TT.totalPrice) AS Total_Sales\n",
    "        FROM TICKET_TRANSACTION TT\n",
    "        WHERE strftime('%Y', TT.dateTime) = '2017'\n",
    "        GROUP BY Week\n",
    "    ),\n",
    "    Moving_Averages AS (\n",
    "        SELECT\n",
    "            Week,\n",
    "            AVG(Total_Sales) OVER(ORDER BY Week ROWS BETWEEN 4 PRECEDING AND CURRENT ROW) AS Moving_Average\n",
    "        FROM Sales_Weeks\n",
    "    )\n",
    "    SELECT * FROM Moving_Averages\n",
    "'''\n",
    "\n",
    "df16 = pd.read_sql_query(query, conn)\n",
    "print(f\"Time taken: {time.time() - start:.2f} seconds\")\n",
    "\n",
    "conn.close()"
   ]
  },
  {
   "cell_type": "code",
   "execution_count": 33,
   "id": "7c1dda5e-fff7-45df-929c-2d97cddd707d",
   "metadata": {
    "tags": []
   },
   "outputs": [
    {
     "data": {
      "text/html": [
       "<div>\n",
       "<style scoped>\n",
       "    .dataframe tbody tr th:only-of-type {\n",
       "        vertical-align: middle;\n",
       "    }\n",
       "\n",
       "    .dataframe tbody tr th {\n",
       "        vertical-align: top;\n",
       "    }\n",
       "\n",
       "    .dataframe thead th {\n",
       "        text-align: right;\n",
       "    }\n",
       "</style>\n",
       "<table border=\"1\" class=\"dataframe\">\n",
       "  <thead>\n",
       "    <tr style=\"text-align: right;\">\n",
       "      <th></th>\n",
       "      <th>Week</th>\n",
       "      <th>Moving_Average</th>\n",
       "    </tr>\n",
       "  </thead>\n",
       "  <tbody>\n",
       "    <tr>\n",
       "      <th>0</th>\n",
       "      <td>00</td>\n",
       "      <td>16556.000000</td>\n",
       "    </tr>\n",
       "    <tr>\n",
       "      <th>1</th>\n",
       "      <td>01</td>\n",
       "      <td>48993.500000</td>\n",
       "    </tr>\n",
       "    <tr>\n",
       "      <th>2</th>\n",
       "      <td>02</td>\n",
       "      <td>41454.333333</td>\n",
       "    </tr>\n",
       "    <tr>\n",
       "      <th>3</th>\n",
       "      <td>03</td>\n",
       "      <td>35419.500000</td>\n",
       "    </tr>\n",
       "    <tr>\n",
       "      <th>4</th>\n",
       "      <td>04</td>\n",
       "      <td>34317.600000</td>\n",
       "    </tr>\n",
       "  </tbody>\n",
       "</table>\n",
       "</div>"
      ],
      "text/plain": [
       "  Week  Moving_Average\n",
       "0   00    16556.000000\n",
       "1   01    48993.500000\n",
       "2   02    41454.333333\n",
       "3   03    35419.500000\n",
       "4   04    34317.600000"
      ]
     },
     "execution_count": 33,
     "metadata": {},
     "output_type": "execute_result"
    }
   ],
   "source": [
    "df16.head()"
   ]
  },
  {
   "cell_type": "markdown",
   "id": "b31baf33-8b38-493b-b9ab-44b0caf0dcc1",
   "metadata": {},
   "source": [
    "### Question 17: Largest Three 5-Week Moving Averages of Total Sales in 2014\n",
    "Compute the largest three 5-week moving averages of total sales, among the weeks in 2014."
   ]
  },
  {
   "cell_type": "code",
   "execution_count": 34,
   "id": "1912236a-9024-4539-8505-36be519b0e06",
   "metadata": {
    "tags": []
   },
   "outputs": [
    {
     "name": "stdout",
     "output_type": "stream",
     "text": [
      "Time taken: 4.12 seconds\n"
     ]
    }
   ],
   "source": [
    "conn = sqlite3.connect(db_name)\n",
    "start = time.time()\n",
    "\n",
    "query = '''\n",
    "    WITH Sales_Weeks AS (\n",
    "        SELECT\n",
    "            strftime('%W', TT.dateTime) AS Week,\n",
    "            SUM(TT.totalPrice) AS Total_Sales\n",
    "        FROM TICKET_TRANSACTION TT\n",
    "        WHERE strftime('%Y', TT.dateTime) = '2014'\n",
    "        GROUP BY Week\n",
    "    ),\n",
    "    Moving_Averages AS (\n",
    "        SELECT\n",
    "            Week,\n",
    "            AVG(Total_Sales) OVER(ORDER BY Week ROWS BETWEEN 4 PRECEDING AND CURRENT ROW) AS Moving_Average\n",
    "        FROM Sales_Weeks\n",
    "    )\n",
    "    SELECT * FROM Moving_Averages\n",
    "    ORDER BY Moving_Average DESC\n",
    "    LIMIT 3\n",
    "'''\n",
    "\n",
    "df17 = pd.read_sql_query(query, conn)\n",
    "print(f\"Time taken: {time.time() - start:.2f} seconds\")\n",
    "\n",
    "conn.close()"
   ]
  },
  {
   "cell_type": "code",
   "execution_count": 35,
   "id": "e67d446e-9acf-4671-b1c5-97c988a4fbe7",
   "metadata": {
    "tags": []
   },
   "outputs": [
    {
     "data": {
      "text/html": [
       "<div>\n",
       "<style scoped>\n",
       "    .dataframe tbody tr th:only-of-type {\n",
       "        vertical-align: middle;\n",
       "    }\n",
       "\n",
       "    .dataframe tbody tr th {\n",
       "        vertical-align: top;\n",
       "    }\n",
       "\n",
       "    .dataframe thead th {\n",
       "        text-align: right;\n",
       "    }\n",
       "</style>\n",
       "<table border=\"1\" class=\"dataframe\">\n",
       "  <thead>\n",
       "    <tr style=\"text-align: right;\">\n",
       "      <th></th>\n",
       "      <th>Week</th>\n",
       "      <th>Moving_Average</th>\n",
       "    </tr>\n",
       "  </thead>\n",
       "  <tbody>\n",
       "    <tr>\n",
       "      <th>0</th>\n",
       "      <td>50</td>\n",
       "      <td>116332.0</td>\n",
       "    </tr>\n",
       "    <tr>\n",
       "      <th>1</th>\n",
       "      <td>49</td>\n",
       "      <td>104289.0</td>\n",
       "    </tr>\n",
       "    <tr>\n",
       "      <th>2</th>\n",
       "      <td>29</td>\n",
       "      <td>97592.0</td>\n",
       "    </tr>\n",
       "  </tbody>\n",
       "</table>\n",
       "</div>"
      ],
      "text/plain": [
       "  Week  Moving_Average\n",
       "0   50        116332.0\n",
       "1   49        104289.0\n",
       "2   29         97592.0"
      ]
     },
     "execution_count": 35,
     "metadata": {},
     "output_type": "execute_result"
    }
   ],
   "source": [
    "df17.head()"
   ]
  },
  {
   "cell_type": "markdown",
   "id": "b6d0c78e-ff6f-42b4-9e14-f1ad243dd0fb",
   "metadata": {},
   "source": [
    "### Question 18: Largest 4-Week Moving Average of Total Sales for Each Cinema (2015-2018)\n",
    "For each cinema, compute the largest 4-week moving average of total sales from 2015 to 2018."
   ]
  },
  {
   "cell_type": "code",
   "execution_count": 36,
   "id": "77e0afff-c003-4014-84e3-1d2c1cf7f700",
   "metadata": {
    "tags": []
   },
   "outputs": [
    {
     "name": "stdout",
     "output_type": "stream",
     "text": [
      "Time taken: 5.10 seconds\n"
     ]
    }
   ],
   "source": [
    "conn = sqlite3.connect(db_name)\n",
    "start = time.time()\n",
    "\n",
    "query = '''\n",
    "    WITH WeeklySales AS (\n",
    "        SELECT\n",
    "            S.address || ', ' || S.state || ', ' || S.city  AS Cinema,\n",
    "            strftime('%Y-%W', S.dateTime) AS Week,\n",
    "            SUM(TT.totalPrice) AS Total_Sales\n",
    "        FROM TICKET_TRANSACTION TT\n",
    "        JOIN SESSION S ON TT.sessionId = S.id\n",
    "        WHERE strftime('%Y', S.dateTime) BETWEEN '2015' AND '2018'\n",
    "        GROUP BY Cinema, Week\n",
    "    ),\n",
    "    MovingAverages AS (\n",
    "        SELECT\n",
    "            Cinema,\n",
    "            Week,\n",
    "            AVG(Total_Sales) OVER(PARTITION BY Cinema ORDER BY Week ROWS BETWEEN 3 PRECEDING AND CURRENT ROW) AS Four_Week_Moving_Average\n",
    "        FROM WeeklySales\n",
    "    )\n",
    "    SELECT Cinema, MAX(Four_Week_Moving_Average) AS Largest_Moving_Average\n",
    "    FROM MovingAverages\n",
    "    GROUP BY Cinema\n",
    "    ORDER BY Cinema;\n",
    "'''\n",
    "\n",
    "df18 = pd.read_sql_query(query, conn)\n",
    "print(f\"Time taken: {time.time() - start:.2f} seconds\")\n",
    "\n",
    "conn.close()"
   ]
  },
  {
   "cell_type": "code",
   "execution_count": 37,
   "id": "77514959-d1cc-4c61-8b87-66da37cc4450",
   "metadata": {
    "tags": []
   },
   "outputs": [
    {
     "data": {
      "text/html": [
       "<div>\n",
       "<style scoped>\n",
       "    .dataframe tbody tr th:only-of-type {\n",
       "        vertical-align: middle;\n",
       "    }\n",
       "\n",
       "    .dataframe tbody tr th {\n",
       "        vertical-align: top;\n",
       "    }\n",
       "\n",
       "    .dataframe thead th {\n",
       "        text-align: right;\n",
       "    }\n",
       "</style>\n",
       "<table border=\"1\" class=\"dataframe\">\n",
       "  <thead>\n",
       "    <tr style=\"text-align: right;\">\n",
       "      <th></th>\n",
       "      <th>Cinema</th>\n",
       "      <th>Largest_Moving_Average</th>\n",
       "    </tr>\n",
       "  </thead>\n",
       "  <tbody>\n",
       "    <tr>\n",
       "      <th>0</th>\n",
       "      <td>0083 Jasmine Canyon Suite 151, Illinois, Sprin...</td>\n",
       "      <td>11165.00</td>\n",
       "    </tr>\n",
       "    <tr>\n",
       "      <th>1</th>\n",
       "      <td>0151 Nicole Road Apt. 213, Washington, Tacoma</td>\n",
       "      <td>14286.25</td>\n",
       "    </tr>\n",
       "    <tr>\n",
       "      <th>2</th>\n",
       "      <td>049 William Parkways, Georgia, Atlanta</td>\n",
       "      <td>10845.00</td>\n",
       "    </tr>\n",
       "    <tr>\n",
       "      <th>3</th>\n",
       "      <td>0794 Miller Place, Pennsylvania, Allentown</td>\n",
       "      <td>9496.50</td>\n",
       "    </tr>\n",
       "    <tr>\n",
       "      <th>4</th>\n",
       "      <td>1036 Edwards Flats Suite 078, Illinois, Peoria</td>\n",
       "      <td>10806.75</td>\n",
       "    </tr>\n",
       "  </tbody>\n",
       "</table>\n",
       "</div>"
      ],
      "text/plain": [
       "                                              Cinema  Largest_Moving_Average\n",
       "0  0083 Jasmine Canyon Suite 151, Illinois, Sprin...                11165.00\n",
       "1      0151 Nicole Road Apt. 213, Washington, Tacoma                14286.25\n",
       "2             049 William Parkways, Georgia, Atlanta                10845.00\n",
       "3         0794 Miller Place, Pennsylvania, Allentown                 9496.50\n",
       "4     1036 Edwards Flats Suite 078, Illinois, Peoria                10806.75"
      ]
     },
     "execution_count": 37,
     "metadata": {},
     "output_type": "execute_result"
    }
   ],
   "source": [
    "df18.head()"
   ]
  },
  {
   "cell_type": "markdown",
   "id": "d99b0d0e-65f4-4cea-b4cf-763cec298096",
   "metadata": {},
   "source": [
    "# Export result"
   ]
  },
  {
   "cell_type": "code",
   "execution_count": 38,
   "id": "2b78a2bb-41ea-41ca-9bba-a6d50ac1a626",
   "metadata": {
    "tags": []
   },
   "outputs": [],
   "source": [
    "import pandas as pd\n",
    "\n",
    "dataframes = [df1, df2, df3, df4, df5, df6, df7, df8, df9, df10, df11, df12, df13, df14, df15, df16, df17, df18]\n",
    "\n",
    "for i, df in enumerate(dataframes, start=1):\n",
    "    file_name = f\"result/q{i}_index.csv\"\n",
    "    df.to_csv(file_name, index=False)\n"
   ]
  }
 ],
 "metadata": {
  "kernelspec": {
   "display_name": "Python 3 (ipykernel)",
   "language": "python",
   "name": "python3"
  },
  "language_info": {
   "codemirror_mode": {
    "name": "ipython",
    "version": 3
   },
   "file_extension": ".py",
   "mimetype": "text/x-python",
   "name": "python",
   "nbconvert_exporter": "python",
   "pygments_lexer": "ipython3",
   "version": "3.9.18"
  }
 },
 "nbformat": 4,
 "nbformat_minor": 5
}
